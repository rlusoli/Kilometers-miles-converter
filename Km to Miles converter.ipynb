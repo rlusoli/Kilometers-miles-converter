{
 "cells": [
  {
   "cell_type": "code",
   "execution_count": 8,
   "id": "7f3774a4",
   "metadata": {},
   "outputs": [
    {
     "name": "stdout",
     "output_type": "stream",
     "text": [
      "Choose the option: \n",
      "1 - Convert kilometers to miles\n",
      "2 - Convert miles to kilometers\n",
      "Enter what you want to convert (1 or 2): 3\n",
      "Enter the value you want to convert: 1\n",
      "Invalid value.\n"
     ]
    }
   ],
   "source": [
    "def kilometers(x):\n",
    "    return x / 1.60934\n",
    "\n",
    "def miles(x):\n",
    "    return x * 1.60934\n",
    "\n",
    "print('Choose the option: ')\n",
    "print('1 - Convert kilometers to miles')\n",
    "print('2 - Convert miles to kilometers')\n",
    "\n",
    "operation = input('Enter what you want to convert (1 or 2): ')\n",
    "value = float(input('Enter the value you want to convert: '))\n",
    "\n",
    "if operation == '1':\n",
    "    print(f'{value}km to miles is {kilometers(value)} miles.')\n",
    "elif operation == '2':\n",
    "    print(f'{value}miles to Kilometers is {miles(value)}km.')\n",
    "else:\n",
    "    print('Invalid value.')"
   ]
  },
  {
   "cell_type": "code",
   "execution_count": null,
   "id": "e2e70c11",
   "metadata": {},
   "outputs": [],
   "source": []
  }
 ],
 "metadata": {
  "kernelspec": {
   "display_name": "Python 3 (ipykernel)",
   "language": "python",
   "name": "python3"
  },
  "language_info": {
   "codemirror_mode": {
    "name": "ipython",
    "version": 3
   },
   "file_extension": ".py",
   "mimetype": "text/x-python",
   "name": "python",
   "nbconvert_exporter": "python",
   "pygments_lexer": "ipython3",
   "version": "3.11.5"
  }
 },
 "nbformat": 4,
 "nbformat_minor": 5
}
